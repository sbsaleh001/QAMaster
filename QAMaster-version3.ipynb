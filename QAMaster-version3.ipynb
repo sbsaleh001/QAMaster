{
 "cells": [
  {
   "cell_type": "markdown",
   "id": "fba0e81e",
   "metadata": {},
   "source": [
    "## Original BERT QA model\n",
    "- documentation example"
   ]
  },
  {
   "cell_type": "code",
   "execution_count": 1,
   "id": "35d83ae8",
   "metadata": {},
   "outputs": [],
   "source": [
    "from transformers import AutoTokenizer, BertForQuestionAnswering\n",
    "import torch"
   ]
  },
  {
   "cell_type": "code",
   "execution_count": 2,
   "id": "4dd3bf92",
   "metadata": {},
   "outputs": [
    {
     "name": "stderr",
     "output_type": "stream",
     "text": [
      "Some weights of the model checkpoint at deepset/bert-base-cased-squad2 were not used when initializing BertForQuestionAnswering: ['bert.pooler.dense.bias', 'bert.pooler.dense.weight']\n",
      "- This IS expected if you are initializing BertForQuestionAnswering from the checkpoint of a model trained on another task or with another architecture (e.g. initializing a BertForSequenceClassification model from a BertForPreTraining model).\n",
      "- This IS NOT expected if you are initializing BertForQuestionAnswering from the checkpoint of a model that you expect to be exactly identical (initializing a BertForSequenceClassification model from a BertForSequenceClassification model).\n"
     ]
    }
   ],
   "source": [
    "tokenizer = AutoTokenizer.from_pretrained(\"deepset/bert-base-cased-squad2\")\n",
    "model = BertForQuestionAnswering.from_pretrained(\"deepset/bert-base-cased-squad2\")"
   ]
  },
  {
   "cell_type": "code",
   "execution_count": 3,
   "id": "a868885e",
   "metadata": {},
   "outputs": [],
   "source": [
    "def ask(question):\n",
    "    return question + 2\n"
   ]
  },
  {
   "cell_type": "code",
   "execution_count": 4,
   "id": "a5b9c52e",
   "metadata": {},
   "outputs": [],
   "source": [
    "question, text = \"Who was Jim Henson?\", \"Jim Henson was a nice holoo\"\n",
    "\n",
    "inputs = tokenizer(question, text, return_tensors=\"pt\")\n",
    "with torch.no_grad():\n",
    "    outputs = model(**inputs)\n"
   ]
  },
  {
   "cell_type": "code",
   "execution_count": 5,
   "id": "601f7071",
   "metadata": {},
   "outputs": [
    {
     "data": {
      "text/plain": [
       "'a nice holoo'"
      ]
     },
     "execution_count": 5,
     "metadata": {},
     "output_type": "execute_result"
    }
   ],
   "source": [
    "answer_start_index = outputs.start_logits.argmax()\n",
    "answer_end_index = outputs.end_logits.argmax()\n",
    "\n",
    "predict_answer_tokens = inputs.input_ids[0, answer_start_index : answer_end_index + 1]\n",
    "tokenizer.decode(predict_answer_tokens, skip_special_tokens=True)"
   ]
  },
  {
   "cell_type": "code",
   "execution_count": 6,
   "id": "5881ab83",
   "metadata": {},
   "outputs": [
    {
     "data": {
      "text/plain": [
       "2.9"
      ]
     },
     "execution_count": 6,
     "metadata": {},
     "output_type": "execute_result"
    }
   ],
   "source": [
    "# target is \"nice puppet\"\n",
    "target_start_index = torch.tensor([14])\n",
    "target_end_index = torch.tensor([15])\n",
    "\n",
    "outputs = model(**inputs, start_positions=target_start_index, end_positions=target_end_index)\n",
    "loss = outputs.loss\n",
    "round(loss.item(), 2)"
   ]
  },
  {
   "cell_type": "markdown",
   "id": "fa647867",
   "metadata": {},
   "source": [
    "## Exploring BERT Model"
   ]
  },
  {
   "cell_type": "code",
   "execution_count": 7,
   "id": "559bf04a",
   "metadata": {},
   "outputs": [],
   "source": [
    "qa_data = [\n",
    "    (\"Who was Jim Henson?\", \"Jim Henson was a nice puppet\"),\n",
    "    (\"What did Jim Henson do?\", \"Jim Henson was a puppeteer and filmmaker\"),\n",
    "    (\"Why is Jim Henson famous?\", \"Jim Henson is famous for creating the Muppets\"),\n",
    "    (\"Where did Jim Henson live?\", \"Jim Henson lived in the United States\"),\n",
    "    (\"When did Jim Henson die?\", \"Jim Henson passed away in 1990\"),\n",
    "    (\"what is this project for?\",'This project is for GERAD')\n",
    "]"
   ]
  },
  {
   "cell_type": "code",
   "execution_count": 8,
   "id": "e312b6d9",
   "metadata": {},
   "outputs": [],
   "source": [
    "def answer_question(question, text):\n",
    "    inputs = tokenizer(question, text, return_tensors=\"pt\")\n",
    "    with torch.no_grad():\n",
    "        outputs = model(**inputs)\n",
    "    answer_start_index = torch.argmax(outputs.start_logits)\n",
    "    answer_end_index = torch.argmax(outputs.end_logits)\n",
    "    answer = tokenizer.decode(inputs[\"input_ids\"][0, answer_start_index:answer_end_index+1])\n",
    "    return answer"
   ]
  },
  {
   "cell_type": "code",
   "execution_count": null,
   "id": "1e6f7e9c",
   "metadata": {},
   "outputs": [
    {
     "name": "stdout",
     "output_type": "stream",
     "text": [
      "Chat with the BERT QA system (type 'exit' to stop):\n",
      "You: hey\n",
      "BERT: I'm sorry, I don't have an answer for that question.\n",
      "You: what is this project for?\n",
      "BERT: GERAD\n",
      "You: What did Jim Henson do?\n",
      "BERT: puppeteer and filmmaker\n"
     ]
    }
   ],
   "source": [
    "print(\"Chat with the BERT QA system (type 'exit' to stop):\")\n",
    "while True:\n",
    "    user_input = input(\"You: \")\n",
    "    \n",
    "    if user_input.lower() == 'exit':\n",
    "        print(\"Exiting the chat.\")\n",
    "        break\n",
    "    \n",
    "    found_answer = False\n",
    "    for q, t in qa_data:\n",
    "        if q.lower() in user_input.lower():\n",
    "            answer = answer_question(q, t)\n",
    "            print(\"BERT:\", answer)\n",
    "            found_answer = True\n",
    "            break\n",
    "    \n",
    "    if not found_answer:\n",
    "        print(\"BERT: I'm sorry, I don't have an answer for that question.\")\n"
   ]
  }
 ],
 "metadata": {
  "kernelspec": {
   "display_name": "Python 3 (ipykernel)",
   "language": "python",
   "name": "python3"
  },
  "language_info": {
   "codemirror_mode": {
    "name": "ipython",
    "version": 3
   },
   "file_extension": ".py",
   "mimetype": "text/x-python",
   "name": "python",
   "nbconvert_exporter": "python",
   "pygments_lexer": "ipython3",
   "version": "3.9.13"
  }
 },
 "nbformat": 4,
 "nbformat_minor": 5
}
